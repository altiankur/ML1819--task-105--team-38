{
 "cells": [
  {
   "cell_type": "code",
   "execution_count": 90,
   "metadata": {},
   "outputs": [],
   "source": [
    "#read data\n",
    "\n",
    "import numpy as np\n",
    "import pandas as pd\n",
    "data=pd.read_csv('creditcard.csv')"
   ]
  },
  {
   "cell_type": "code",
   "execution_count": 91,
   "metadata": {},
   "outputs": [],
   "source": [
    "#scale data, last and first column of features is only data unscaled\n",
    "\n",
    "from sklearn import preprocessing\n",
    "Features = np.array(data[['Time', 'V1', 'V2', 'V3', 'V4', 'V5', 'V6', 'V7', 'V8', 'V9', 'V10',\n",
    "       'V11', 'V12', 'V13', 'V14', 'V15', 'V16', 'V17', 'V18', 'V19', 'V20',\n",
    "       'V21', 'V22', 'V23', 'V24', 'V25', 'V26', 'V27', 'V28', 'Amount']])\n",
    "col = Features[:, -1]\n",
    "scaler = preprocessing.StandardScaler().fit(col.reshape(-1,1))\n",
    "col = scaler.transform(col.reshape(-1,1))\n",
    "col = np.ravel(col)\n",
    "Features[:, -1] = col"
   ]
  },
  {
   "cell_type": "code",
   "execution_count": 94,
   "metadata": {},
   "outputs": [
    {
     "name": "stdout",
     "output_type": "stream",
     "text": [
      "(313287, 31)\n",
      "(313287, 31)\n"
     ]
    }
   ],
   "source": [
    "# Introduce Noise\n",
    " ## get random rows\n",
    "import numpy.random as nr\n",
    "import random\n",
    "import sklearn.model_selection as ms\n",
    "from sklearn.utils import shuffle\n",
    "\n",
    "def intr_noise(data, frac):\n",
    "    nr.seed(1234)\n",
    "    labels = np.array(data['Class'])\n",
    "    index = range(data.shape[0])\n",
    "    index = random.sample(range(data.shape[0]), int(frac*float(data.shape[0])))\n",
    "    noise_data_x = Features[index, :]\n",
    "    noise_data_y = np.ravel(labels[index])\n",
    "    ## get description\n",
    "    noise_data_x = pd.DataFrame(noise_data_x)\n",
    "    desc = noise_data_x.describe()\n",
    "    desc = np.array(desc)\n",
    "    noise_data_x = np.array(noise_data_x)\n",
    "    # pick standard dev from desccription for each column \n",
    "    stds = desc[2,:]\n",
    "    for i in range(len(noise_data_x)):                           #iterate over rows\n",
    "        for j, std in enumerate(stds):                           #iterate over each column\n",
    "            w = random.uniform(-std,std)\n",
    "            noise_data_x[i, j] = noise_data_x[i, j] + w          #add random no from (-std, std) to existing data\n",
    "    #print(noise_data_x)\n",
    "    #print(len(noise_data_x))\n",
    "    noise_data_y\n",
    "    noise_data = np.column_stack((noise_data_x, noise_data_y))\n",
    "    data_noise = np.vstack((data, noise_data))\n",
    "    data_noise = pd.DataFrame(data_noise)\n",
    "    print(data_noise.shape)\n",
    "    df = shuffle(data_noise)\n",
    "    print(df.shape)\n",
    "    return df\n",
    "\n",
    "df = intr_noise(data, 0.1)"
   ]
  },
  {
   "cell_type": "code",
   "execution_count": null,
   "metadata": {
    "scrolled": false
   },
   "outputs": [],
   "source": []
  },
  {
   "cell_type": "code",
   "execution_count": null,
   "metadata": {},
   "outputs": [],
   "source": []
  },
  {
   "cell_type": "code",
   "execution_count": null,
   "metadata": {
    "scrolled": false
   },
   "outputs": [],
   "source": [
    "\n",
    "\n"
   ]
  },
  {
   "cell_type": "code",
   "execution_count": null,
   "metadata": {},
   "outputs": [],
   "source": []
  }
 ],
 "metadata": {
  "kernelspec": {
   "display_name": "Python 3",
   "language": "python",
   "name": "python3"
  },
  "language_info": {
   "codemirror_mode": {
    "name": "ipython",
    "version": 3
   },
   "file_extension": ".py",
   "mimetype": "text/x-python",
   "name": "python",
   "nbconvert_exporter": "python",
   "pygments_lexer": "ipython3",
   "version": "3.7.0"
  }
 },
 "nbformat": 4,
 "nbformat_minor": 2
}
